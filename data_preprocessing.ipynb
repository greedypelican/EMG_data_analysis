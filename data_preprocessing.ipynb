{
 "cells": [
  {
   "cell_type": "code",
   "execution_count": 1,
   "metadata": {},
   "outputs": [],
   "source": [
    "import numpy as np\n",
    "import pandas as pd\n",
    "import matplotlib.pyplot as plt\n",
    "from scipy import signal\n",
    "from scipy import ndimage\n",
    "\n",
    "col_names=['ch1','ch2','ch3','ch4']\n",
    "gesture_names = ['Rest','Extension','Flexion','Ulnar Deviation','Radial Deviation','Grip','Abduction of Fingers','Adduction of Fingers','Supination','Pronation']"
   ]
  },
  {
   "cell_type": "markdown",
   "metadata": {},
   "source": [
    "Reshape the data1~data40 to 3-D arrays having gesture names"
   ]
  },
  {
   "cell_type": "code",
   "execution_count": 17,
   "metadata": {},
   "outputs": [
    {
     "name": "stdout",
     "output_type": "stream",
     "text": [
      "i:1 j:1 c:1\n",
      "i:1 j:2 c:2\n",
      "i:1 j:3 c:3\n",
      "i:1 j:4 c:4\n",
      "i:1 j:5 c:5\n",
      "i:2 j:1 c:6\n",
      "i:2 j:2 c:7\n",
      "i:2 j:3 c:8\n",
      "i:2 j:4 c:9\n",
      "i:2 j:5 c:10\n",
      "i:3 j:1 c:11\n",
      "i:3 j:2 c:12\n",
      "i:3 j:3 c:13\n",
      "i:3 j:4 c:14\n",
      "i:3 j:5 c:15\n",
      "i:4 j:1 c:16\n",
      "i:4 j:2 c:17\n",
      "i:4 j:3 c:18\n",
      "i:4 j:4 c:19\n",
      "i:4 j:5 c:20\n",
      "i:5 j:1 c:21\n",
      "i:5 j:2 c:22\n",
      "i:5 j:3 c:23\n",
      "i:5 j:4 c:24\n",
      "i:5 j:5 c:25\n",
      "i:6 j:1 c:26\n",
      "i:6 j:2 c:27\n",
      "i:6 j:3 c:28\n",
      "i:6 j:4 c:29\n",
      "i:6 j:5 c:30\n",
      "i:7 j:1 c:31\n",
      "i:7 j:2 c:32\n",
      "i:7 j:3 c:33\n",
      "i:7 j:4 c:34\n",
      "i:7 j:5 c:35\n",
      "i:8 j:1 c:36\n",
      "i:8 j:2 c:37\n",
      "i:8 j:3 c:38\n",
      "i:8 j:4 c:39\n",
      "i:8 j:5 c:40\n",
      "i:9 j:1 c:41\n",
      "i:9 j:2 c:42\n",
      "i:9 j:3 c:43\n",
      "i:9 j:4 c:44\n",
      "i:9 j:5 c:45\n",
      "i:10 j:1 c:46\n",
      "i:10 j:2 c:47\n",
      "i:10 j:3 c:48\n",
      "i:10 j:4 c:49\n",
      "i:10 j:5 c:50\n",
      "i:11 j:1 c:51\n",
      "i:11 j:2 c:52\n",
      "i:11 j:3 c:53\n",
      "i:11 j:4 c:54\n",
      "i:11 j:5 c:55\n",
      "i:12 j:1 c:56\n",
      "i:12 j:2 c:57\n",
      "i:12 j:3 c:58\n",
      "i:12 j:4 c:59\n",
      "i:12 j:5 c:60\n",
      "i:13 j:1 c:61\n",
      "i:13 j:2 c:62\n",
      "i:13 j:3 c:63\n",
      "i:13 j:4 c:64\n",
      "i:13 j:5 c:65\n",
      "i:14 j:1 c:66\n",
      "i:14 j:2 c:67\n",
      "i:14 j:3 c:68\n",
      "i:14 j:4 c:69\n",
      "i:14 j:5 c:70\n",
      "i:15 j:1 c:71\n",
      "i:15 j:2 c:72\n",
      "i:15 j:3 c:73\n",
      "i:15 j:4 c:74\n",
      "i:15 j:5 c:75\n",
      "i:16 j:1 c:76\n",
      "i:16 j:2 c:77\n",
      "i:16 j:3 c:78\n",
      "i:16 j:4 c:79\n",
      "i:16 j:5 c:80\n",
      "i:17 j:1 c:81\n",
      "i:17 j:2 c:82\n",
      "i:17 j:3 c:83\n",
      "i:17 j:4 c:84\n",
      "i:17 j:5 c:85\n",
      "i:18 j:1 c:86\n",
      "i:18 j:2 c:87\n",
      "i:18 j:3 c:88\n",
      "i:18 j:4 c:89\n",
      "i:18 j:5 c:90\n",
      "i:19 j:1 c:91\n",
      "i:19 j:2 c:92\n",
      "i:19 j:3 c:93\n",
      "i:19 j:4 c:94\n",
      "i:19 j:5 c:95\n",
      "i:20 j:1 c:96\n",
      "i:20 j:2 c:97\n",
      "i:20 j:3 c:98\n",
      "i:20 j:4 c:99\n",
      "i:20 j:5 c:100\n",
      "i:21 j:1 c:101\n",
      "i:21 j:2 c:102\n",
      "i:21 j:3 c:103\n",
      "i:21 j:4 c:104\n",
      "i:21 j:5 c:105\n",
      "i:22 j:1 c:106\n",
      "i:22 j:2 c:107\n",
      "i:22 j:3 c:108\n",
      "i:22 j:4 c:109\n",
      "i:22 j:5 c:110\n",
      "i:23 j:1 c:111\n",
      "i:23 j:2 c:112\n",
      "i:23 j:3 c:113\n",
      "i:23 j:4 c:114\n",
      "i:23 j:5 c:115\n",
      "i:24 j:1 c:116\n",
      "i:24 j:2 c:117\n",
      "i:24 j:3 c:118\n",
      "i:24 j:4 c:119\n",
      "i:24 j:5 c:120\n",
      "i:25 j:1 c:121\n",
      "i:25 j:2 c:122\n",
      "i:25 j:3 c:123\n",
      "i:25 j:4 c:124\n",
      "i:25 j:5 c:125\n",
      "i:26 j:1 c:126\n",
      "i:26 j:2 c:127\n",
      "i:26 j:3 c:128\n",
      "i:26 j:4 c:129\n",
      "i:26 j:5 c:130\n",
      "i:27 j:1 c:131\n",
      "i:27 j:2 c:132\n",
      "i:27 j:3 c:133\n",
      "i:27 j:4 c:134\n",
      "i:27 j:5 c:135\n",
      "i:28 j:1 c:136\n",
      "i:28 j:2 c:137\n",
      "i:28 j:3 c:138\n",
      "i:28 j:4 c:139\n",
      "i:28 j:5 c:140\n",
      "i:29 j:1 c:141\n",
      "i:29 j:2 c:142\n",
      "i:29 j:3 c:143\n",
      "i:29 j:4 c:144\n",
      "i:29 j:5 c:145\n",
      "i:30 j:1 c:146\n",
      "i:30 j:2 c:147\n",
      "i:30 j:3 c:148\n",
      "i:30 j:4 c:149\n",
      "i:30 j:5 c:150\n",
      "i:31 j:1 c:151\n",
      "i:31 j:2 c:152\n",
      "i:31 j:3 c:153\n",
      "i:31 j:4 c:154\n",
      "i:31 j:5 c:155\n",
      "i:32 j:1 c:156\n",
      "i:32 j:2 c:157\n",
      "i:32 j:3 c:158\n",
      "i:32 j:4 c:159\n",
      "i:32 j:5 c:160\n",
      "i:33 j:1 c:161\n",
      "i:33 j:2 c:162\n",
      "i:33 j:3 c:163\n",
      "i:33 j:4 c:164\n",
      "i:33 j:5 c:165\n",
      "i:34 j:1 c:166\n",
      "i:34 j:2 c:167\n",
      "i:34 j:3 c:168\n",
      "i:34 j:4 c:169\n",
      "i:34 j:5 c:170\n",
      "i:35 j:1 c:171\n",
      "i:35 j:2 c:172\n",
      "i:35 j:3 c:173\n",
      "i:35 j:4 c:174\n",
      "i:35 j:5 c:175\n",
      "i:36 j:1 c:176\n",
      "i:36 j:2 c:177\n",
      "i:36 j:3 c:178\n",
      "i:36 j:4 c:179\n",
      "i:36 j:5 c:180\n",
      "i:37 j:1 c:181\n",
      "i:37 j:2 c:182\n",
      "i:37 j:3 c:183\n",
      "i:37 j:4 c:184\n",
      "i:37 j:5 c:185\n",
      "i:38 j:1 c:186\n",
      "i:38 j:2 c:187\n",
      "i:38 j:3 c:188\n",
      "i:38 j:4 c:189\n",
      "i:38 j:5 c:190\n",
      "i:39 j:1 c:191\n",
      "i:39 j:2 c:192\n",
      "i:39 j:3 c:193\n",
      "i:39 j:4 c:194\n",
      "i:39 j:5 c:195\n",
      "i:40 j:1 c:196\n",
      "i:40 j:2 c:197\n",
      "i:40 j:3 c:198\n",
      "i:40 j:4 c:199\n",
      "i:40 j:5 c:200\n"
     ]
    }
   ],
   "source": [
    "import warnings\n",
    "warnings.filterwarnings('ignore') # too many warnings (use DataFrame.transpose instead of DataFrame.swapaxes)\n",
    "c=0\n",
    "for i in range(40): #data1 to data40\n",
    "    globals()['data{}'.format(i+1)] = pd.read_csv('/Users/jhr/workspace/GitHub/EMG_data_analysis/Dataset for multi-channel surface electromyography (sEMG) signals of hand gestures/sEMG-dataset/raw/csv/{}_raw.csv'.format(i+1), names=col_names)\n",
    "\n",
    "    globals()['data{}_patterns'.format(i+1)] = [globals()['data{}'.format(i+1)][r:r + 268000] for r in range(0, len(globals()['data{}'.format(i+1)]), 268000)] #divide the data by 268000 steps at a time\n",
    "\n",
    "    for j in range(5): #pattern1 to pattern5\n",
    "        globals()['data{}_gestures{}'.format(i+1,j+1)] = np.array_split(globals()['data{}_patterns'.format(i+1)][j].iloc[4000:204000], 10) #split the data into 10 gestures\n",
    "        \n",
    "        for g in range(10): #gesture1 to gesture10\n",
    "            if i==0: #make a array, first face of 3-D gesture array\n",
    "                globals()['{}_signal'.format(gesture_names[g])] = globals()['data{}_gestures{}'.format(i+1,j+1)][g].reset_index(drop=True).to_numpy()[np.newaxis,:] #2-D arrays having gesture names\n",
    "                \n",
    "            else: #verticaly stack the 2-D arrays to make a 3-D array\n",
    "                globals()['{}_signal'.format(gesture_names[g])] = np.vstack([globals()['{}_signal'.format(gesture_names[g])],globals()['data{}_gestures{}'.format(i+1,j+1)][g].reset_index(drop=True).to_numpy()[np.newaxis,:]])\n",
    "\n",
    "        c+=1\n",
    "        print('i:{} j:{} c:{}'.format(i+1,j+1,c))"
   ]
  },
  {
   "cell_type": "code",
   "execution_count": 18,
   "metadata": {},
   "outputs": [
    {
     "data": {
      "text/plain": [
       "(196, 20000, 4)"
      ]
     },
     "execution_count": 18,
     "metadata": {},
     "output_type": "execute_result"
    }
   ],
   "source": [
    "Extension_signal.shape #why (196, 20000, 4) ?"
   ]
  },
  {
   "cell_type": "markdown",
   "metadata": {},
   "source": [
    "Filters to go through"
   ]
  },
  {
   "cell_type": "code",
   "execution_count": 19,
   "metadata": {},
   "outputs": [],
   "source": [
    "def maximum(raw, box_size, mode='nearest'): # Maximum Filter\n",
    "    raw_maximum=ndimage.maximum_filter(raw,box_size,mode=mode)\n",
    "    return raw_maximum.real\n",
    "\n",
    "def denoise_fft(data, ifftn): # Fast Fourier Transformation\n",
    "    fft_signal = np.fft.fft(data)#.values) # Fast Fourier Transformation \n",
    "    \n",
    "    # Reconstruct the original signal\n",
    "    fft_signal[ifftn:len(fft_signal)//2]=0\n",
    "    fft_signal[len(fft_signal)//2:-ifftn]=0\n",
    "    reconstructed_signal = np.fft.ifft(fft_signal)\n",
    "    \n",
    "    return reconstructed_signal.real\n",
    "\n",
    "def smooth(x,beta): # Kaiser Window Smoothing\n",
    "    window_len=11  # extending the data at beginning and at the end to apply the window at the borders\n",
    "\n",
    "    s = np.r_[x[window_len-1:0:-1],x,x[-1:-window_len:-1]]\n",
    "    w = np.kaiser(window_len,beta)\n",
    "    y = np.convolve(w/w.sum(),s,mode='valid')\n",
    "    return y[5:len(y)-5]"
   ]
  },
  {
   "cell_type": "markdown",
   "metadata": {},
   "source": [
    "Apply Filters"
   ]
  },
  {
   "cell_type": "code",
   "execution_count": 36,
   "metadata": {},
   "outputs": [
    {
     "ename": "KeyError",
     "evalue": "'Rest_signal_filtered'",
     "output_type": "error",
     "traceback": [
      "\u001b[0;31m---------------------------------------------------------------------------\u001b[0m",
      "\u001b[0;31mKeyError\u001b[0m                                  Traceback (most recent call last)",
      "Cell \u001b[0;32mIn[36], line 5\u001b[0m\n\u001b[1;32m      3\u001b[0m \u001b[38;5;28;01mfor\u001b[39;00m ch \u001b[38;5;129;01min\u001b[39;00m \u001b[38;5;28mrange\u001b[39m(\u001b[38;5;241m4\u001b[39m):\n\u001b[1;32m      4\u001b[0m     \u001b[38;5;28;01mif\u001b[39;00m i \u001b[38;5;241m==\u001b[39m \u001b[38;5;241m0\u001b[39m:\n\u001b[0;32m----> 5\u001b[0m         \u001b[38;5;28;43mglobals\u001b[39;49m\u001b[43m(\u001b[49m\u001b[43m)\u001b[49m\u001b[43m[\u001b[49m\u001b[38;5;124;43m'\u001b[39;49m\u001b[38;5;132;43;01m{}\u001b[39;49;00m\u001b[38;5;124;43m_signal_filtered\u001b[39;49m\u001b[38;5;124;43m'\u001b[39;49m\u001b[38;5;241;43m.\u001b[39;49m\u001b[43mformat\u001b[49m\u001b[43m(\u001b[49m\u001b[43mg\u001b[49m\u001b[43m)\u001b[49m\u001b[43m]\u001b[49m[i][:,ch] \u001b[38;5;241m=\u001b[39m smooth(denoise_fft(maximum(\u001b[38;5;28mglobals\u001b[39m()[\u001b[38;5;124m'\u001b[39m\u001b[38;5;132;01m{}\u001b[39;00m\u001b[38;5;124m_signal\u001b[39m\u001b[38;5;124m'\u001b[39m\u001b[38;5;241m.\u001b[39mformat(g)][i][:,ch],\u001b[38;5;241m25\u001b[39m),\u001b[38;5;241m20\u001b[39m),\u001b[38;5;241m2\u001b[39m)\n",
      "\u001b[0;31mKeyError\u001b[0m: 'Rest_signal_filtered'"
     ]
    }
   ],
   "source": [
    "for i in range(196): #196 samples\n",
    "    for g in gesture_names: #10 gestures\n",
    "        for ch in range(4):\n",
    "            if i == 0:\n",
    "                globals()['{}_signal_filtered'.format(g)][i][:,ch] = smooth(denoise_fft(maximum(globals()['{}_signal'.format(g)][i][:,ch],25),20),2)\n",
    "                "
   ]
  },
  {
   "cell_type": "code",
   "execution_count": 4,
   "metadata": {},
   "outputs": [
    {
     "data": {
      "text/plain": [
       "\"\\nfor i in range(40): #data1 to data40\\n    globals()['data{}'.format(i+1)] = pd.read_csv('/Users/jhr/workspace/GitHub/EMG_data_analysis/Dataset for multi-channel surface electromyography (sEMG) signals of hand gestures/sEMG-dataset/raw/csv/{}_raw.csv'.format(i+1), names=col_names)\\n\\n    globals()['data{}_pattern'.format(i+1)] = [globals()['data{}'.format(i+1)][r:r + 268000] for r in range(0, len(globals()['data{}'.format(i+1)]), 268000)] #divide the data by 268000 steps at a time\\n\\n    for f in col_names: #ch1 to ch4\\n        \\n        for j in range(5): #pattern1 to pattern5\\n            \\n            for g in range(10): #gesture1 to gesture10\\n                if g == 0: #make a dataframe what sets the standard index\\n                    globals()['data{}_gestures{}'.format(i+1,j+1)] = np.array_split(globals()['data{}_pattern'.format(i+1)][j].iloc[4000:204000], 10) #split the data into 10 gestures\\n                    globals()['data{}_{}_gestures{}'.format(i+1,f,j+1)] = pd.DataFrame(globals()['data{}_gestures{}'.format(i+1,j+1)][g][f]) #new dataframe to set columns as gestures\\n\\n                else: #appending the other features by pd.concat\\n                    globals()['data{}_{}_gestures{}'.format(i+1,f,j+1)] = pd.concat([globals()['data{}_{}_gestures{}'.format(i+1,f,j+1)],pd.DataFrame(globals()['data{}_gestures{}'.format(i+1,j+1)][g][f]).set_index(globals()['data{}_{}_gestures{}'.format(i+1,f,j+1)].index)],axis=1,join='inner')\\n                    globals()['data{}_{}_gestures{}'.format(i+1,f,j+1)].reset_index(drop=True, inplace=True) #reset the index\\n\\n                    globals()['data{}_{}_gestures{}_litre'.format(i+1,f,j+1)] = globals()['data{}_{}_gestures{}'.format(i+1,f,j+1)].iloc[3000:17000] #new dataframe with a little of the rest time(0:4000, 16000:20000)\\n                    globals()['data{}_{}_gestures{}_litre'.format(i+1,f,j+1)].reset_index(drop=True, inplace=True) #reset the index\\n            \\n            globals()['data{}_{}_gestures{}'.format(i+1,f,j+1)].columns = gesture_names #rename the columns by the exact gesture names\\n            globals()['data{}_{}_gestures{}_litre'.format(i+1,f,j+1)].columns = gesture_names #rename the columns by the exact gesture names\\n\""
      ]
     },
     "execution_count": 4,
     "metadata": {},
     "output_type": "execute_result"
    }
   ],
   "source": [
    "\"\"\"\n",
    "for i in range(40): #data1 to data40\n",
    "    globals()['data{}'.format(i+1)] = pd.read_csv('/Users/jhr/workspace/GitHub/EMG_data_analysis/Dataset for multi-channel surface electromyography (sEMG) signals of hand gestures/sEMG-dataset/raw/csv/{}_raw.csv'.format(i+1), names=col_names)\n",
    "\n",
    "    globals()['data{}_pattern'.format(i+1)] = [globals()['data{}'.format(i+1)][r:r + 268000] for r in range(0, len(globals()['data{}'.format(i+1)]), 268000)] #divide the data by 268000 steps at a time\n",
    "\n",
    "    for f in col_names: #ch1 to ch4\n",
    "        \n",
    "        for j in range(5): #pattern1 to pattern5\n",
    "            \n",
    "            for g in range(10): #gesture1 to gesture10\n",
    "                if g == 0: #make a dataframe what sets the standard index\n",
    "                    globals()['data{}_gestures{}'.format(i+1,j+1)] = np.array_split(globals()['data{}_pattern'.format(i+1)][j].iloc[4000:204000], 10) #split the data into 10 gestures\n",
    "                    globals()['data{}_{}_gestures{}'.format(i+1,f,j+1)] = pd.DataFrame(globals()['data{}_gestures{}'.format(i+1,j+1)][g][f]) #new dataframe to set columns as gestures\n",
    "\n",
    "                else: #appending the other features by pd.concat\n",
    "                    globals()['data{}_{}_gestures{}'.format(i+1,f,j+1)] = pd.concat([globals()['data{}_{}_gestures{}'.format(i+1,f,j+1)],pd.DataFrame(globals()['data{}_gestures{}'.format(i+1,j+1)][g][f]).set_index(globals()['data{}_{}_gestures{}'.format(i+1,f,j+1)].index)],axis=1,join='inner')\n",
    "                    globals()['data{}_{}_gestures{}'.format(i+1,f,j+1)].reset_index(drop=True, inplace=True) #reset the index\n",
    "\n",
    "                    globals()['data{}_{}_gestures{}_litre'.format(i+1,f,j+1)] = globals()['data{}_{}_gestures{}'.format(i+1,f,j+1)].iloc[3000:17000] #new dataframe with a little of the rest time(0:4000, 16000:20000)\n",
    "                    globals()['data{}_{}_gestures{}_litre'.format(i+1,f,j+1)].reset_index(drop=True, inplace=True) #reset the index\n",
    "            \n",
    "            globals()['data{}_{}_gestures{}'.format(i+1,f,j+1)].columns = gesture_names #rename the columns by the exact gesture names\n",
    "            globals()['data{}_{}_gestures{}_litre'.format(i+1,f,j+1)].columns = gesture_names #rename the columns by the exact gesture names\n",
    "\"\"\""
   ]
  },
  {
   "cell_type": "code",
   "execution_count": 7,
   "metadata": {},
   "outputs": [
    {
     "data": {
      "text/plain": [
       "\"\\nplt.figure(figsize=(20,8))\\nplt.plot(data20_ch2_gestures2, label=data20_ch2_gestures2.columns)  \\n\\nplt.title('data20_ch2_gestures2')\\nplt.xlabel('time(2k_bits_per_second)')\\nplt.ylabel('EMG_signal_strength')\\n\\nplt.legend()\\nplt.show()\\n\""
      ]
     },
     "execution_count": 7,
     "metadata": {},
     "output_type": "execute_result"
    }
   ],
   "source": [
    "\"\"\"\n",
    "plt.figure(figsize=(20,8))\n",
    "plt.plot(data20_ch2_gestures2, label=data20_ch2_gestures2.columns)  \n",
    "\n",
    "plt.title('data20_ch2_gestures2')\n",
    "plt.xlabel('time(2k_bits_per_second)')\n",
    "plt.ylabel('EMG_signal_strength')\n",
    "\n",
    "plt.legend()\n",
    "plt.show()\n",
    "\"\"\""
   ]
  },
  {
   "cell_type": "code",
   "execution_count": 9,
   "metadata": {},
   "outputs": [
    {
     "data": {
      "text/plain": [
       "\"\\nplt.figure(figsize=(20,8))\\nplt.plot(data40_ch3_gestures5_litre, label=data40_ch3_gestures5_litre.columns)  \\n\\nplt.title('data40_ch3_gestures5_litre')\\nplt.xlabel('time(2k_bits_per_second)')\\nplt.ylabel('EMG_signal_strength')\\n\\nplt.legend()\\nplt.show()\\n\""
      ]
     },
     "execution_count": 9,
     "metadata": {},
     "output_type": "execute_result"
    }
   ],
   "source": [
    "\"\"\"\n",
    "plt.figure(figsize=(20,8))\n",
    "plt.plot(data40_ch3_gestures5_litre, label=data40_ch3_gestures5_litre.columns)  \n",
    "\n",
    "plt.title('data40_ch3_gestures5_litre')\n",
    "plt.xlabel('time(2k_bits_per_second)')\n",
    "plt.ylabel('EMG_signal_strength')\n",
    "\n",
    "plt.legend()\n",
    "plt.show()\n",
    "\"\"\""
   ]
  },
  {
   "cell_type": "code",
   "execution_count": 10,
   "metadata": {},
   "outputs": [
    {
     "data": {
      "text/plain": [
       "\"\\nfor i in range(40):\\n    for j in range(4):\\n        for k in range(5):\\n            globals()['data{}_ch{}_gestures{}_litre'.format(i+1,j+1,k+1)].drop(columns=['Ulnar Deviation', 'Radial Deviation', 'Abduction of Fingers', 'Adduction of Fingers'], inplace=True)\\n\""
      ]
     },
     "execution_count": 10,
     "metadata": {},
     "output_type": "execute_result"
    }
   ],
   "source": [
    "\"\"\"\n",
    "#Remove 'Ulnar Deviation', 'Radial Deviation', 'Abduction of Fingers', 'Adduction of Fingers' (no remarkable signal characteristic between two similar)\n",
    "for i in range(40):\n",
    "    for j in range(4):\n",
    "        for k in range(5):\n",
    "            globals()['data{}_ch{}_gestures{}_litre'.format(i+1,j+1,k+1)].drop(columns=['Ulnar Deviation', 'Radial Deviation', 'Abduction of Fingers', 'Adduction of Fingers'], inplace=True)\n",
    "\"\"\""
   ]
  },
  {
   "cell_type": "code",
   "execution_count": 11,
   "metadata": {},
   "outputs": [
    {
     "data": {
      "text/plain": [
       "\"\\nfig, axs = plt.subplots(2, 1, figsize=(20, 20))\\n\\naxs[0].plot(data15_ch1_gestures5_litre, label=data15_ch1_gestures5_litre.columns)\\naxs[1].plot(data15_ch2_gestures5_litre, label=data15_ch2_gestures5_litre.columns)\\n\\nfor ax in axs.flat:\\n    ax.set(xlabel='time(2k_bits_per_second)', ylabel='EMG_signal_strength')\\n\\nplt.tight_layout()\\nplt.legend()\\nplt.show()\\n\""
      ]
     },
     "execution_count": 11,
     "metadata": {},
     "output_type": "execute_result"
    }
   ],
   "source": [
    "\"\"\"\n",
    "#Channel1 and Channel2 shows important differences of the signals\n",
    "fig, axs = plt.subplots(2, 1, figsize=(20, 20))\n",
    "\n",
    "axs[0].plot(data15_ch1_gestures5_litre, label=data15_ch1_gestures5_litre.columns)\n",
    "axs[1].plot(data15_ch2_gestures5_litre, label=data15_ch2_gestures5_litre.columns)\n",
    "\n",
    "for ax in axs.flat:\n",
    "    ax.set(xlabel='time(2k_bits_per_second)', ylabel='EMG_signal_strength')\n",
    "\n",
    "plt.tight_layout()\n",
    "plt.legend()\n",
    "plt.show()\n",
    "\"\"\""
   ]
  }
 ],
 "metadata": {
  "kernelspec": {
   "display_name": "bigdata",
   "language": "python",
   "name": "bigdata"
  },
  "language_info": {
   "codemirror_mode": {
    "name": "ipython",
    "version": 3
   },
   "file_extension": ".py",
   "mimetype": "text/x-python",
   "name": "python",
   "nbconvert_exporter": "python",
   "pygments_lexer": "ipython3",
   "version": "3.12.2"
  }
 },
 "nbformat": 4,
 "nbformat_minor": 2
}
